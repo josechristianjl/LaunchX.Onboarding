{
 "cells": [
  {
   "cell_type": "markdown",
   "metadata": {},
   "source": [
    "### Modulo 3 - Usar lógica booleana."
   ]
  },
  {
   "cell_type": "markdown",
   "metadata": {},
   "source": [
    "#### Escribir declaraciones (if, else & elif)."
   ]
  },
  {
   "cell_type": "markdown",
   "metadata": {},
   "source": [
    "####\n",
    "Ejercicio 1."
   ]
  },
  {
   "cell_type": "code",
   "execution_count": null,
   "metadata": {},
   "outputs": [],
   "source": [
    "vel_asteroide = int(input(\"¿A cuantos km/s viaja el asteroide?\"))\n",
    "vel_limite = 25\n",
    "\n",
    "if vel_asteroide > vel_limite:\n",
    "    print(\"¡¡SÁLVESE QUIEN PUEDAAAAAAAAAA!!\")\n",
    "elif vel_asteroide < vel_limite:\n",
    "    print(\"Todo en orden. Sigue con tu día.\")\n",
    "else:\n",
    "    print(\"Estamos alertas. ¡¡TODO PUEDE CAMBIAR!!\")"
   ]
  },
  {
   "cell_type": "markdown",
   "metadata": {},
   "source": [
    "####\n",
    "Ejercicio 2."
   ]
  },
  {
   "cell_type": "code",
   "execution_count": null,
   "metadata": {},
   "outputs": [],
   "source": [
    "vel_asteroide = int(input(\"¿A cuantos km/s viaja el asteroide?\"))\n",
    "vel_rayo = 20\n",
    "\n",
    "if vel_asteroide > vel_rayo:\n",
    "    print(\"¡¡Mira arriba. Hay un rayo de luz causada por el asteroide en el cielo!!\")\n",
    "elif vel_asteroide == vel_rayo:\n",
    "    print(\"¡¡Mira arriba. Hay un rayo de luz causada por el asteroide en el cielo!!\")\n",
    "else:\n",
    "    print(\"No hay nada en el cielo. Sigue con tu día.\")"
   ]
  },
  {
   "cell_type": "markdown",
   "metadata": {},
   "source": [
    "#### Uso de operadores (and & or)."
   ]
  },
  {
   "cell_type": "markdown",
   "metadata": {},
   "source": [
    "####\n",
    "Ejercicio 1."
   ]
  },
  {
   "cell_type": "code",
   "execution_count": null,
   "metadata": {},
   "outputs": [],
   "source": [
    "vel_asteroide = int(input(\"¿A cuantos km/s viaja el asteroide?\"))\n",
    "tam_asteroide = int(input(\"¿Cuantos metros mide el asteroide?\"))\n",
    "\n",
    "vel_limite = 25\n",
    "vel_rayo = 20\n",
    "tam_limite = 40\n",
    "\n",
    "if vel_asteroide >= vel_limite or tam_asteroide >= tam_limite:\n",
    "    print(\"¡¡SÁLVESE QUIEN PUEDAAAAAAAAAA!!\")\n",
    "elif vel_asteroide >= vel_rayo:\n",
    "    print(\"¡¡Mira arriba. Hay un rayo de luz causada por el asteroide en el cielo!!\")\n",
    "else:\n",
    "    print(\"No hay nada en el cielo. Sigue con tu día.\")\n",
    "    "
   ]
  },
  {
   "cell_type": "markdown",
   "metadata": {},
   "source": [
    "### Fin del modulo 3."
   ]
  }
 ],
 "metadata": {
  "interpreter": {
   "hash": "c91b4295bccaa869eadf02d14ead2614dd585f3f123301da9fe646642682ee85"
  },
  "kernelspec": {
   "display_name": "Python 3.10.2 64-bit",
   "language": "python",
   "name": "python3"
  },
  "language_info": {
   "codemirror_mode": {
    "name": "ipython",
    "version": 3
   },
   "file_extension": ".py",
   "mimetype": "text/x-python",
   "name": "python",
   "nbconvert_exporter": "python",
   "pygments_lexer": "ipython3",
   "version": "3.10.2"
  },
  "orig_nbformat": 4
 },
 "nbformat": 4,
 "nbformat_minor": 2
}
