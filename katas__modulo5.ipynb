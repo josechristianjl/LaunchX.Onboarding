{
 "cells": [
  {
   "cell_type": "markdown",
   "metadata": {},
   "source": [
    "### Modulo 5 - Usar operaciones matemáticas."
   ]
  },
  {
   "cell_type": "markdown",
   "metadata": {},
   "source": [
    "#### Utilizar operadores aritméticos."
   ]
  },
  {
   "cell_type": "markdown",
   "metadata": {},
   "source": [
    "####\n",
    "Exploremos cómo podemos crear un programa que pueda calcular la distancia entre dos planetas. Comenzaremos usando dos distancias de planetas: Tierra (149.597.870 km) y Júpiter (778.547.200 km)."
   ]
  },
  {
   "cell_type": "code",
   "execution_count": null,
   "metadata": {},
   "outputs": [],
   "source": [
    "tierra = 149597870\n",
    "jupiter = 778547200\n",
    "\n",
    "distancia_kms = abs(tierra - jupiter)\n",
    "\n",
    "print(str(distancia_kms) + \" kilometros.\")"
   ]
  },
  {
   "cell_type": "markdown",
   "metadata": {},
   "source": [
    "####\n",
    "Con los valores obtenidos, es el momento de añadir el código para realizar la operación. Restarás el primer planeta del segundo para determinar la distancia en kilómetros. A continuación, puedes convertir la distancia del kilómetro en millas multiplicándola por 0.621."
   ]
  },
  {
   "cell_type": "code",
   "execution_count": null,
   "metadata": {},
   "outputs": [],
   "source": [
    "tierra = 149597870\n",
    "jupiter = 778547200\n",
    "\n",
    "distancia_kms = abs(tierra - jupiter)\n",
    "distancia_mi = abs(tierra - jupiter) * 0.621\n",
    "\n",
    "print(str(distancia_kms) + \" kilometros.\")\n",
    "print(str(distancia_mi) + \" millas.\")"
   ]
  },
  {
   "cell_type": "markdown",
   "metadata": {},
   "source": [
    "#### Convierte cadenas en números y usa valores absolutos."
   ]
  },
  {
   "cell_type": "markdown",
   "metadata": {},
   "source": [
    "####\n",
    "Crear una aplicación para trabajar con números y entrada de usuario."
   ]
  },
  {
   "cell_type": "markdown",
   "metadata": {},
   "source": [
    "#### \n",
    "Para crear nuestra aplicación, queremos leer la distancia del sol para dos planetas, y luego mostrar la distancia entre los planetas. Haremos esto usando input para leer los valores, int para convertir a entero y luego abs para convertir el resultado en su valor absoluto."
   ]
  },
  {
   "cell_type": "code",
   "execution_count": null,
   "metadata": {},
   "outputs": [],
   "source": [
    "primer_planeta = int(input(\"Introduce la distancia desde sol a el primer planeta en KMs: \"))\n",
    "segundo_planeta = int(input(\"Introduce la distancia desde el sol a el segundo planeta en KMs: \"))"
   ]
  },
  {
   "cell_type": "code",
   "execution_count": null,
   "metadata": {},
   "outputs": [],
   "source": [
    "primer_planeta = int(input(\"Introduce la distancia desde sol a el primer planeta en KMs: \"))\n",
    "segundo_planeta = int(input(\"Introduce la distancia desde el sol a el segundo planeta en KMs: \"))\n",
    "\n",
    "distancia_kms = abs(primer_planeta - segundo_planeta)\n",
    "distancia_mi = abs(primer_planeta - segundo_planeta) * 0.621\n",
    "\n",
    "print(str(distancia_kms) + \" kilometros.\")\n",
    "print(str(distancia_mi) + \" millas.\")"
   ]
  },
  {
   "cell_type": "markdown",
   "metadata": {},
   "source": [
    "### Fin del modulo 5."
   ]
  }
 ],
 "metadata": {
  "interpreter": {
   "hash": "c91b4295bccaa869eadf02d14ead2614dd585f3f123301da9fe646642682ee85"
  },
  "kernelspec": {
   "display_name": "Python 3.10.2 64-bit",
   "language": "python",
   "name": "python3"
  },
  "language_info": {
   "codemirror_mode": {
    "name": "ipython",
    "version": 3
   },
   "file_extension": ".py",
   "mimetype": "text/x-python",
   "name": "python",
   "nbconvert_exporter": "python",
   "pygments_lexer": "ipython3",
   "version": "3.10.2"
  },
  "orig_nbformat": 4
 },
 "nbformat": 4,
 "nbformat_minor": 2
}
